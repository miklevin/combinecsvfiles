{
 "cells": [
  {
   "cell_type": "code",
   "execution_count": null,
   "id": "ef694ba8-9e39-4e42-96ae-bc0636a6f6a0",
   "metadata": {},
   "outputs": [],
   "source": [
    "%load_ext lab_black"
   ]
  },
  {
   "cell_type": "code",
   "execution_count": null,
   "id": "d3d0e0f8-fcc8-4c33-a48e-a1ed38732829",
   "metadata": {},
   "outputs": [],
   "source": [
    "import pandas as pd\n",
    "from pathlib import Path\n",
    "from time import strptime"
   ]
  },
  {
   "cell_type": "code",
   "execution_count": null,
   "id": "4bd70698-6e27-4d04-b1e2-52b82eff4f67",
   "metadata": {
    "tags": []
   },
   "outputs": [],
   "source": [
    "files = Path(\"csvfiles\").glob(\"*.csv\")\n",
    "\n",
    "lots = []\n",
    "for afile in files:\n",
    "    print(afile)\n",
    "    df = pd.read_csv(afile)\n",
    "    \n",
    "    # You sometimes need to add columns derived from filename\n",
    "    month = afile.name.split()[2][6:]\n",
    "    month = strptime(month, \"%b\").tm_mon\n",
    "    year = afile.name.split()[3]\n",
    "    year = year[:4]\n",
    "    df[\"month\"] = month\n",
    "    df[\"year\"] = year\n",
    "\n",
    "    lots.append(df)"
   ]
  },
  {
   "cell_type": "code",
   "execution_count": null,
   "id": "0a7b7bb5-7682-449f-9912-978eefd79193",
   "metadata": {},
   "outputs": [],
   "source": [
    "df_all = pd.concat(lots)"
   ]
  },
  {
   "cell_type": "code",
   "execution_count": null,
   "id": "e549912b-17d1-472f-9012-ea15e499e867",
   "metadata": {},
   "outputs": [],
   "source": []
  }
 ],
 "metadata": {
  "kernelspec": {
   "display_name": "Python 3 (ipykernel)",
   "language": "python",
   "name": "python3"
  },
  "language_info": {
   "codemirror_mode": {
    "name": "ipython",
    "version": 3
   },
   "file_extension": ".py",
   "mimetype": "text/x-python",
   "name": "python",
   "nbconvert_exporter": "python",
   "pygments_lexer": "ipython3",
   "version": "3.11.0"
  }
 },
 "nbformat": 4,
 "nbformat_minor": 5
}
